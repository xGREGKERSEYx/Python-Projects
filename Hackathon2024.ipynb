{
 "cells": [
  {
   "cell_type": "code",
   "execution_count": 373,
   "id": "bdd37834-8dba-460a-b8fe-22ad746255dc",
   "metadata": {},
   "outputs": [
    {
     "name": "stdout",
     "output_type": "stream",
     "text": [
      "Requirement already satisfied: pandas in /opt/conda/lib/python3.10/site-packages (2.2.2)\n",
      "Requirement already satisfied: numpy>=1.22.4 in /opt/conda/lib/python3.10/site-packages (from pandas) (1.26.4)\n",
      "Requirement already satisfied: python-dateutil>=2.8.2 in /opt/conda/lib/python3.10/site-packages (from pandas) (2.9.0)\n",
      "Requirement already satisfied: pytz>=2020.1 in /opt/conda/lib/python3.10/site-packages (from pandas) (2024.1)\n",
      "Requirement already satisfied: tzdata>=2022.7 in /opt/conda/lib/python3.10/site-packages (from pandas) (2024.1)\n",
      "Requirement already satisfied: six>=1.5 in /opt/conda/lib/python3.10/site-packages (from python-dateutil>=2.8.2->pandas) (1.16.0)\n",
      "\u001b[33mWARNING: Running pip as the 'root' user can result in broken permissions and conflicting behaviour with the system package manager. It is recommended to use a virtual environment instead: https://pip.pypa.io/warnings/venv\u001b[0m\u001b[33m\n",
      "\u001b[0mNote: you may need to restart the kernel to use updated packages.\n"
     ]
    }
   ],
   "source": [
    "pip install pandas"
   ]
  },
  {
   "cell_type": "code",
   "execution_count": 374,
   "id": "a7e52c47-9958-45d8-8670-ae0bf4773394",
   "metadata": {
    "tags": []
   },
   "outputs": [],
   "source": [
    "import pandas as pd"
   ]
  },
  {
   "cell_type": "code",
   "execution_count": 375,
   "id": "ca4141ef-b241-49f1-a29a-fda99462ad84",
   "metadata": {
    "tags": []
   },
   "outputs": [
    {
     "name": "stdout",
     "output_type": "stream",
     "text": [
      "['in']\n"
     ]
    }
   ],
   "source": [
    "path1 = ('training_dataset_final.xlsx')\n",
    "xl = pd.ExcelFile(path1)\n",
    "print(xl.sheet_names)"
   ]
  },
  {
   "cell_type": "code",
   "execution_count": 376,
   "id": "c852e26f-0d2b-41e6-9dbe-bec24607e846",
   "metadata": {
    "tags": []
   },
   "outputs": [],
   "source": [
    "df = xl.parse('in')"
   ]
  },
  {
   "cell_type": "code",
   "execution_count": 377,
   "id": "192998c5-e324-41e7-8eda-8095f5835f9b",
   "metadata": {
    "tags": []
   },
   "outputs": [],
   "source": [
    "# Change all columns to the appropriate types\n",
    "#df = df.convert_dtypes()\n",
    "#print(df.dtypes)"
   ]
  },
  {
   "cell_type": "code",
   "execution_count": 378,
   "id": "6a924536-75b8-43bf-a2e4-248b0b06bbef",
   "metadata": {
    "tags": []
   },
   "outputs": [],
   "source": [
    "#print(df)"
   ]
  },
  {
   "cell_type": "code",
   "execution_count": 379,
   "id": "bc4281f8-8438-4812-b6fb-740279050916",
   "metadata": {
    "tags": []
   },
   "outputs": [],
   "source": [
    "df['PTIN'] = df['PTIN'].str.replace('-', '')\n",
    "df['TAXPAYER_ID'] = df['TAXPAYER_ID'].str.replace('-', '')\n",
    "df['FIRM_ID'] = df['FIRM_ID'].str.replace('-', '')\n",
    "df['CLIENT_ID'] = df['CLIENT_ID'].str.replace('-', '')\n",
    "df['ROUTING_NUMBER1'] = df['ROUTING_NUMBER1'].str.replace('-', '')\n",
    "df['DEPOSIT_ACCOUNT1'] = df['DEPOSIT_ACCOUNT1'].str.replace('-', '')\n",
    "df['ROUTING_NUMBER2'] = df['ROUTING_NUMBER2'].str.replace('-', '')\n",
    "df['DEPOSIT_ACCOUNT2'] = df['DEPOSIT_ACCOUNT2'].str.replace('-', '')\n",
    "df['ROUTING_NUMBER3'] = df['ROUTING_NUMBER3'].str.replace('-', '')\n",
    "df['DEPOSIT_ACCOUNT3'] = df['DEPOSIT_ACCOUNT3'].str.replace('-', '')\n",
    "df['IP_ADDRESS'] = df['IP_ADDRESS'].str.replace('-', '')\n",
    "#print(df)"
   ]
  },
  {
   "cell_type": "code",
   "execution_count": 380,
   "id": "18162a0b-1b6b-4731-8d54-b7a69f2b0266",
   "metadata": {
    "tags": []
   },
   "outputs": [],
   "source": [
    "# Create a new DataFrame for extracted features\n",
    "df_clean = pd.DataFrame({    \n",
    "    'YEAR': df['FILED_DATETIME'].dt.year,\n",
    "    'MONTH': df['FILED_DATETIME'].dt.month,\n",
    "    'DAY': df['FILED_DATETIME'].dt.day,\n",
    "    'HOUR': df['FILED_DATETIME'].dt.hour,\n",
    "    'TAX_YEAR' : df['TAX_YEAR'],\n",
    "    'REFUND' : df['REFUND'],# Copy REFUND directly\n",
    "    'ZIPCODE' : df['ZIPCODE'],# Copy ZIPCODE directly\n",
    "    'STATE_PLACEHOLDER' : df['STATE_PLACEHOLDER'],\n",
    "    \n",
    "    #Change STATE_ATTACHED & IS_SUSPICIOUS to int values\n",
    "    'STATE_ATTACHED': df['STATE_ATTACHED'].astype(int),\n",
    "    'IS_SUSPICIOUS': df['IS_SUSPICIOUS'].astype(int)\n",
    "})\n",
    "        \n",
    "#print(df_clean)"
   ]
  },
  {
   "cell_type": "code",
   "execution_count": 381,
   "id": "3033bc1c-6d7f-4761-90d2-01aaccbc1f97",
   "metadata": {
    "tags": []
   },
   "outputs": [
    {
     "name": "stdout",
     "output_type": "stream",
     "text": [
      "YEAR                 int32\n",
      "MONTH                int32\n",
      "DAY                  int32\n",
      "HOUR                 int32\n",
      "TAX_YEAR             int64\n",
      "REFUND               int64\n",
      "ZIPCODE              int64\n",
      "STATE_PLACEHOLDER    int64\n",
      "STATE_ATTACHED       int64\n",
      "IS_SUSPICIOUS        int64\n",
      "TAXPAYER_ID          int64\n",
      "FIRM_ID              int64\n",
      "CLIENT_ID            int64\n",
      "ROUTING_NUMBER1      int64\n",
      "DEPOSIT_ACCOUNT1     int64\n",
      "ROUTING_NUMBER2      int64\n",
      "DEPOSIT_ACCOUNT2     int64\n",
      "ROUTING_NUMBER3      int64\n",
      "DEPOSIT_ACCOUNT3     int64\n",
      "PTIN                 int64\n",
      "IP_ADDRESS           int64\n",
      "dtype: object\n",
      "        YEAR  MONTH  DAY  HOUR  TAX_YEAR  REFUND  ZIPCODE  STATE_PLACEHOLDER  \\\n",
      "0       2021      1   20     0      2020    4206    33863                 47   \n",
      "1       2021      1   20     6      2020    2276    23929                 30   \n",
      "2       2021      1   20     7      2020    4373    56438                 17   \n",
      "3       2021      1   20     8      2020    1339    37826                  6   \n",
      "4       2021      1   20     9      2020    3388    23380                 50   \n",
      "...      ...    ...  ...   ...       ...     ...      ...                ...   \n",
      "193449  2023      4    4    12      2022    5538    12353                 27   \n",
      "193450  2023      4    4    12      2022    3304    70635                 28   \n",
      "193451  2023      4    4    12      2022    4606    59537                 40   \n",
      "193452  2023      4    4    12      2022    5360    94910                 20   \n",
      "193453  2023      4    4    12      2022    1163    95709                 35   \n",
      "\n",
      "        STATE_ATTACHED  IS_SUSPICIOUS  ...  FIRM_ID  CLIENT_ID  \\\n",
      "0                    1              0  ...     2574      76296   \n",
      "1                    1              0  ...     2248      40954   \n",
      "2                    1              0  ...      942      29330   \n",
      "3                    0              0  ...     1970       6290   \n",
      "4                    1              0  ...     2650      64645   \n",
      "...                ...            ...  ...      ...        ...   \n",
      "193449               1              0  ...     1962      33633   \n",
      "193450               1              0  ...       60      51140   \n",
      "193451               1              0  ...     2841       4431   \n",
      "193452               1              0  ...     2118      46965   \n",
      "193453               1              0  ...      631      65459   \n",
      "\n",
      "        ROUTING_NUMBER1  DEPOSIT_ACCOUNT1  ROUTING_NUMBER2  DEPOSIT_ACCOUNT2  \\\n",
      "0                  2017             65419             1357              3175   \n",
      "1                  1039             50050             1357              3175   \n",
      "2                  1090             27205             1357              3175   \n",
      "3                  1112             82353             1357              3175   \n",
      "4                  1554             15249             1357              3175   \n",
      "...                 ...               ...              ...               ...   \n",
      "193449             1530             24996             1357              3175   \n",
      "193450             2022             41782             1357              3175   \n",
      "193451               75             33917             1357              3175   \n",
      "193452              510             72526             1357              3175   \n",
      "193453             2006             57431             1357              3175   \n",
      "\n",
      "        ROUTING_NUMBER3  DEPOSIT_ACCOUNT3   PTIN  IP_ADDRESS  \n",
      "0                   505               629  37884       14013  \n",
      "1                   505               629  62000       14214  \n",
      "2                   505               629  61499       11129  \n",
      "3                   505               629  13291       11210  \n",
      "4                   505               629  16736        1348  \n",
      "...                 ...               ...    ...         ...  \n",
      "193449              505               629  11020        3924  \n",
      "193450              505               629  19225        8164  \n",
      "193451              505               629  31916        9411  \n",
      "193452              505               629  43824       11561  \n",
      "193453              505               629  25494        5500  \n",
      "\n",
      "[193454 rows x 21 columns]\n"
     ]
    }
   ],
   "source": [
    "from sklearn.model_selection import GroupShuffleSplit, train_test_split\n",
    "from sklearn.preprocessing import LabelEncoder\n",
    "\n",
    "label_encoders = {}\n",
    "for col in ['TAXPAYER_ID', 'FIRM_ID', 'CLIENT_ID', 'ROUTING_NUMBER1', \n",
    "            'DEPOSIT_ACCOUNT1', 'ROUTING_NUMBER2', 'DEPOSIT_ACCOUNT2',\n",
    "            'ROUTING_NUMBER3',  'DEPOSIT_ACCOUNT3',  'PTIN',  'IP_ADDRESS']:\n",
    "    le = LabelEncoder()\n",
    "    df_clean[col] = le.fit_transform(df[col])\n",
    "    label_encoders[col] = le\n",
    "print(df_clean.dtypes)\n",
    "print(df_clean)"
   ]
  },
  {
   "cell_type": "code",
   "execution_count": 382,
   "id": "c779e5a6-3a03-4d34-8d1b-b5e63ea3fec3",
   "metadata": {
    "tags": []
   },
   "outputs": [],
   "source": [
    "# Dropping after extracting features\n",
    "#df.drop('FILED_DATETIME', axis=1, inplace=True);"
   ]
  },
  {
   "cell_type": "code",
   "execution_count": 383,
   "id": "760d5f54-a815-4ef8-bc46-a9c3185a0de9",
   "metadata": {
    "tags": []
   },
   "outputs": [],
   "source": [
    "#df_clean = df_clean.fillna(0)\n",
    "#print(df_clean.dtypes)\n",
    "#print(df_clean)"
   ]
  },
  {
   "cell_type": "code",
   "execution_count": 384,
   "id": "21e350c0-52a3-46c5-af96-b35c009bf438",
   "metadata": {
    "tags": []
   },
   "outputs": [],
   "source": [
    "# Divide the dataset into Suspicious and not suspicious\n",
    "dfTrue = df_clean[df_clean['IS_SUSPICIOUS'] == 1]\n",
    "dfFalse = df_clean[df_clean['IS_SUSPICIOUS'] == 0]\n",
    "\n",
    "# Separate each dataset into percentages for train and evaluate\n",
    "train_dfTrue, eval_dfTrue = train_test_split(dfTrue, test_size=0.2, random_state=42)\n",
    "train_dfFalse, eval_dfFalse = train_test_split(dfFalse, test_size=0.2, random_state=42)\n",
    "\n",
    "# Concatenate training set and shuffle\n",
    "train_df = pd.concat([train_dfTrue, train_dfFalse])\n",
    "train_df = train_df.sample(frac=1).reset_index(drop=True)\n",
    "\n",
    "# Concatenate evaluation set and shuffle\n",
    "eval_df = pd.concat([eval_dfTrue, eval_dfFalse])\n",
    "eval_df = eval_df.sample(frac=1).reset_index(drop=True)"
   ]
  },
  {
   "cell_type": "code",
   "execution_count": 385,
   "id": "caf0ae14-1a33-40f0-ae76-f03a340edeee",
   "metadata": {
    "tags": []
   },
   "outputs": [
    {
     "data": {
      "text/plain": [
       "(3675626, 3250002, 812532, 3927, 4058607)"
      ]
     },
     "execution_count": 385,
     "metadata": {},
     "output_type": "execute_result"
    }
   ],
   "source": [
    "df.size, train_df.size, eval_df.size, dfTrue.size, dfFalse.size"
   ]
  },
  {
   "cell_type": "code",
   "execution_count": 386,
   "id": "5b3dcdce-0c57-40e3-977e-94a6e02135c8",
   "metadata": {
    "tags": []
   },
   "outputs": [],
   "source": [
    "X_train = train_df.drop('IS_SUSPICIOUS', axis=1);\n",
    "Y_train = train_df['IS_SUSPICIOUS'];"
   ]
  },
  {
   "cell_type": "code",
   "execution_count": 387,
   "id": "8f3c0803-3aa9-4094-b7ae-0b3e3c9c8fe3",
   "metadata": {
    "tags": []
   },
   "outputs": [],
   "source": [
    "X_eval = eval_df.drop('IS_SUSPICIOUS', axis=1);\n",
    "Y_eval = eval_df['IS_SUSPICIOUS'];"
   ]
  },
  {
   "cell_type": "code",
   "execution_count": 388,
   "id": "89c28363-7b01-4109-a651-ea0f0c9274fa",
   "metadata": {
    "tags": []
   },
   "outputs": [
    {
     "name": "stdout",
     "output_type": "stream",
     "text": [
      "Requirement already satisfied: xgboost in /opt/conda/lib/python3.10/site-packages (2.0.3)\n",
      "Requirement already satisfied: numpy in /opt/conda/lib/python3.10/site-packages (from xgboost) (1.26.4)\n",
      "Requirement already satisfied: scipy in /opt/conda/lib/python3.10/site-packages (from xgboost) (1.13.0)\n",
      "\u001b[33mWARNING: Running pip as the 'root' user can result in broken permissions and conflicting behaviour with the system package manager. It is recommended to use a virtual environment instead: https://pip.pypa.io/warnings/venv\u001b[0m\u001b[33m\n",
      "\u001b[0mNote: you may need to restart the kernel to use updated packages.\n"
     ]
    }
   ],
   "source": [
    "pip install xgboost"
   ]
  },
  {
   "cell_type": "code",
   "execution_count": 389,
   "id": "ab650d04-9743-4193-b1da-dad9d0992ac1",
   "metadata": {
    "tags": []
   },
   "outputs": [],
   "source": [
    "import xgboost as xgb"
   ]
  },
  {
   "cell_type": "code",
   "execution_count": 390,
   "id": "381894b8-162e-46bb-a9ee-521f43ebe362",
   "metadata": {
    "tags": []
   },
   "outputs": [],
   "source": [
    "#Instances of xgboost model\n",
    "dtrain = xgb.DMatrix(X_train, label=Y_train, enable_categorical=True)\n",
    "deval = xgb.DMatrix(X_eval, label=Y_eval, enable_categorical=True)   "
   ]
  },
  {
   "cell_type": "code",
   "execution_count": 444,
   "id": "57f16675-6ed3-4e9c-8c7f-51aa5ad1ecd2",
   "metadata": {
    "tags": []
   },
   "outputs": [],
   "source": [
    "# Set parameters for training\n",
    "params = {\n",
    "    'max_depth': 6,#depth of tree\n",
    "    'eta': 0.5, #learning rate\n",
    "    'objective': 'binary:logistic',\n",
    "    'eval_metric': 'auc' # Could try with diff. eval metrics e.g. error\n",
    "    #Can use tree_method to change algo\n",
    "}\n",
    "num_rounds = 1000\n",
    "   "
   ]
  },
  {
   "cell_type": "code",
   "execution_count": 445,
   "id": "e693b5a3-7abe-423e-81bf-a82c9a891af5",
   "metadata": {
    "tags": []
   },
   "outputs": [
    {
     "name": "stdout",
     "output_type": "stream",
     "text": [
      "[0]\teval-auc:0.83973\n",
      "[1]\teval-auc:0.88701\n",
      "[2]\teval-auc:0.88636\n",
      "[3]\teval-auc:0.88646\n",
      "[4]\teval-auc:0.88652\n",
      "[5]\teval-auc:0.95864\n",
      "[6]\teval-auc:0.96096\n",
      "[7]\teval-auc:0.96562\n",
      "[8]\teval-auc:0.96496\n",
      "[9]\teval-auc:0.99682\n",
      "[10]\teval-auc:0.99693\n",
      "[11]\teval-auc:0.99747\n",
      "[12]\teval-auc:0.99703\n",
      "[13]\teval-auc:0.99840\n",
      "[14]\teval-auc:0.99858\n",
      "[15]\teval-auc:0.99881\n",
      "[16]\teval-auc:0.99883\n",
      "[17]\teval-auc:0.99927\n",
      "[18]\teval-auc:0.99920\n",
      "[19]\teval-auc:0.99947\n",
      "[20]\teval-auc:0.99958\n",
      "[21]\teval-auc:0.99967\n",
      "[22]\teval-auc:0.99964\n",
      "[23]\teval-auc:0.99968\n",
      "[24]\teval-auc:0.99962\n",
      "[25]\teval-auc:0.99957\n",
      "[26]\teval-auc:0.99967\n",
      "[27]\teval-auc:0.99965\n",
      "[28]\teval-auc:0.99962\n",
      "[29]\teval-auc:0.99960\n",
      "[30]\teval-auc:0.99958\n",
      "[31]\teval-auc:0.99953\n",
      "[32]\teval-auc:0.99960\n",
      "[33]\teval-auc:0.99969\n",
      "[34]\teval-auc:0.99971\n",
      "[35]\teval-auc:0.99972\n",
      "[36]\teval-auc:0.99970\n",
      "[37]\teval-auc:0.99975\n",
      "[38]\teval-auc:0.99974\n",
      "[39]\teval-auc:0.99977\n",
      "[40]\teval-auc:0.99975\n",
      "[41]\teval-auc:0.99975\n",
      "[42]\teval-auc:0.99977\n",
      "[43]\teval-auc:0.99979\n",
      "[44]\teval-auc:0.99979\n",
      "[45]\teval-auc:0.99980\n",
      "[46]\teval-auc:0.99979\n",
      "[47]\teval-auc:0.99980\n",
      "[48]\teval-auc:0.99979\n",
      "[49]\teval-auc:0.99980\n",
      "[50]\teval-auc:0.99979\n",
      "[51]\teval-auc:0.99980\n",
      "[52]\teval-auc:0.99981\n",
      "[53]\teval-auc:0.99980\n",
      "[54]\teval-auc:0.99980\n",
      "[55]\teval-auc:0.99980\n",
      "[56]\teval-auc:0.99979\n",
      "[57]\teval-auc:0.99977\n",
      "[58]\teval-auc:0.99977\n",
      "[59]\teval-auc:0.99976\n",
      "[60]\teval-auc:0.99977\n",
      "[61]\teval-auc:0.99978\n",
      "[62]\teval-auc:0.99978\n"
     ]
    }
   ],
   "source": [
    "# Train our model using xbg.train\n",
    "bst = xgb.train(params, dtrain, num_rounds, evals=[(deval, 'eval')], early_stopping_rounds=10)"
   ]
  },
  {
   "cell_type": "code",
   "execution_count": 446,
   "id": "155ced98-1222-422d-9954-69b28a69d2c2",
   "metadata": {
    "tags": []
   },
   "outputs": [],
   "source": [
    "# Used to perform predictions on evaulation set\n",
    "y_pred = bst.predict(deval)"
   ]
  },
  {
   "cell_type": "code",
   "execution_count": 447,
   "id": "b4e25c58-3354-44aa-b8c6-8c0ee8999089",
   "metadata": {
    "tags": []
   },
   "outputs": [],
   "source": [
    "# Can be used to get the best iteration\n",
    "#y_pred = bst.predict(deval, iteration_range=(0, bst.best_iteration + 1))\n",
    "#print(y_pred)"
   ]
  },
  {
   "cell_type": "code",
   "execution_count": 448,
   "id": "4e7bb568-1cdd-4ba8-8985-4a497d747409",
   "metadata": {
    "tags": []
   },
   "outputs": [
    {
     "name": "stdout",
     "output_type": "stream",
     "text": [
      "Evaluation metrics:\n",
      "Accuracy: 0.9997673937764913\n",
      "Precision: 0.9393939393939394\n",
      "Recall: 0.8157894736842105\n",
      "F1-score: 0.8732394366197183\n",
      "AUC-ROC: 0.9078688662983064\n"
     ]
    }
   ],
   "source": [
    "from sklearn.metrics import accuracy_score, precision_score, recall_score, f1_score, roc_auc_score\n",
    "import numpy as np\n",
    "\n",
    "y_pred_class = (y_pred > 0.5).astype(int)\n",
    "print(\"Evaluation metrics:\")\n",
    "print(\"Accuracy:\", accuracy_score(Y_eval, np.round(y_pred)))\n",
    "print(\"Precision:\", precision_score(Y_eval, np.round(y_pred)))\n",
    "print(\"Recall:\", recall_score(Y_eval, np.round(y_pred)))\n",
    "print(\"F1-score:\", f1_score(Y_eval, np.round(y_pred)))\n",
    "print(\"AUC-ROC:\", roc_auc_score(Y_eval, np.round(y_pred)))"
   ]
  },
  {
   "cell_type": "code",
   "execution_count": 449,
   "id": "dc50151c-c09f-41fd-9201-c59b5ef80555",
   "metadata": {
    "tags": []
   },
   "outputs": [
    {
     "data": {
      "image/png": "[encoded data removed]",
      "text/plain": [
       "<Figure size 640x480 with 2 Axes>"
      ]
     },
     "metadata": {},
     "output_type": "display_data"
    }
   ],
   "source": [
    "from sklearn.metrics import confusion_matrix, ConfusionMatrixDisplay\n",
    "import matplotlib.pyplot as plt\n",
    "from sklearn.metrics import ConfusionMatrixDisplay\n",
    "\n",
    "# Assuming y_pred contains continuous predictions\n",
    "# Convert probabilities to binary labels using a threshold of 0.5\n",
    "y_pred_binary = (y_pred > 0.5).astype(int)\n",
    "\n",
    "# Confusion Matrix\n",
    "cm = confusion_matrix(Y_eval, y_pred_binary)\n",
    "cm\n",
    "disp = ConfusionMatrixDisplay(confusion_matrix=cm)\n",
    "disp.plot()\n",
    "plt.show()"
   ]
  },
  {
   "cell_type": "code",
   "execution_count": 410,
   "id": "32c9b5a9-c8ca-425a-8ce1-e0abc67b3411",
   "metadata": {
    "tags": []
   },
   "outputs": [],
   "source": [
    "import seaborn as sn \n",
    "import matplotlib.pyplot as plt\n",
    "import numpy as np \n",
    "\n",
    "# prints data that will be plotted \n",
    "# columns shown here are selected by corr() since \n",
    "# they are ideal for the plot \n",
    "#print(df_clean.corr())\n",
    "\n",
    "# Assuming df_clean is your DataFrame\n",
    "# Select only numeric columns for the heatmap\n",
    "#numeric_df = df_clean.select_dtypes(include=[np.number])\n",
    "\n",
    "# plotting correlation heatmap \n",
    "#dataplot = sn.heatmap(df_clean.corr(), annot=True) \n",
    "\n",
    "# Change the size of the heatmap\n",
    "#plt.figure(figsize=(50,15))\n",
    "\n",
    "#Triangle Correlation heatmap\n",
    "#define the mask to set the values in the upper triangle to True\n",
    "#mask = np.triu(np.ones_like(df_clean.corr()))\n",
    "#heatmap = sn.heatmap(df_clean.corr(), mask=mask, vmin=-1, vmax=1, cmap='BrBG')\n",
    "#heatmap.set_title('Triangle Correlation Heatmap', fontdict={'fontsize':18}, pad=16);\n",
    "\n",
    "#Features corerelating with Refund\n",
    "#df_clean.corr()[['REFUND']].sort_values(by='REFUND', ascending=False)\n",
    "#plt.figure(figsize=(8, 12))\n",
    "#heatmap = sn.heatmap(df_clean.corr()[['REFUND']].sort_values(by='REFUND', ascending=False), vmin=-1, vmax=1, annot=True, cmap='BrBG')\n",
    "#heatmap.set_title('Features Correlating with REFUND', fontdict={'fontsize':18}, pad=16);\n",
    "\n",
    "# displaying heatmap \n",
    "#plt.show() "
   ]
  },
  {
   "cell_type": "code",
   "execution_count": null,
   "id": "de19e4a2-f057-471f-806a-2204d6d22e01",
   "metadata": {},
   "outputs": [],
   "source": []
  }
 ],
 "metadata": {
  "availableInstances": [
   {
    "_defaultOrder": 0,
    "_isFastLaunch": true,
    "category": "General purpose",
    "gpuNum": 0,
    "hideHardwareSpecs": false,
    "memoryGiB": 4,
    "name": "ml.t3.medium",
    "vcpuNum": 2
   },
   {
    "_defaultOrder": 1,
    "_isFastLaunch": false,
    "category": "General purpose",
    "gpuNum": 0,
    "hideHardwareSpecs": false,
    "memoryGiB": 8,
    "name": "ml.t3.large",
    "vcpuNum": 2
   },
   {
    "_defaultOrder": 2,
    "_isFastLaunch": false,
    "category": "General purpose",
    "gpuNum": 0,
    "hideHardwareSpecs": false,
    "memoryGiB": 16,
    "name": "ml.t3.xlarge",
    "vcpuNum": 4
   },
   {
    "_defaultOrder": 3,
    "_isFastLaunch": false,
    "category": "General purpose",
    "gpuNum": 0,
    "hideHardwareSpecs": false,
    "memoryGiB": 32,
    "name": "ml.t3.2xlarge",
    "vcpuNum": 8
   },
   {
    "_defaultOrder": 4,
    "_isFastLaunch": true,
    "category": "General purpose",
    "gpuNum": 0,
    "hideHardwareSpecs": false,
    "memoryGiB": 8,
    "name": "ml.m5.large",
    "vcpuNum": 2
   },
   {
    "_defaultOrder": 5,
    "_isFastLaunch": false,
    "category": "General purpose",
    "gpuNum": 0,
    "hideHardwareSpecs": false,
    "memoryGiB": 16,
    "name": "ml.m5.xlarge",
    "vcpuNum": 4
   },
   {
    "_defaultOrder": 6,
    "_isFastLaunch": false,
    "category": "General purpose",
    "gpuNum": 0,
    "hideHardwareSpecs": false,
    "memoryGiB": 32,
    "name": "ml.m5.2xlarge",
    "vcpuNum": 8
   },
   {
    "_defaultOrder": 7,
    "_isFastLaunch": false,
    "category": "General purpose",
    "gpuNum": 0,
    "hideHardwareSpecs": false,
    "memoryGiB": 64,
    "name": "ml.m5.4xlarge",
    "vcpuNum": 16
   },
   {
    "_defaultOrder": 8,
    "_isFastLaunch": false,
    "category": "General purpose",
    "gpuNum": 0,
    "hideHardwareSpecs": false,
    "memoryGiB": 128,
    "name": "ml.m5.8xlarge",
    "vcpuNum": 32
   },
   {
    "_defaultOrder": 9,
    "_isFastLaunch": false,
    "category": "General purpose",
    "gpuNum": 0,
    "hideHardwareSpecs": false,
    "memoryGiB": 192,
    "name": "ml.m5.12xlarge",
    "vcpuNum": 48
   },
   {
    "_defaultOrder": 10,
    "_isFastLaunch": false,
    "category": "General purpose",
    "gpuNum": 0,
    "hideHardwareSpecs": false,
    "memoryGiB": 256,
    "name": "ml.m5.16xlarge",
    "vcpuNum": 64
   },
   {
    "_defaultOrder": 11,
    "_isFastLaunch": false,
    "category": "General purpose",
    "gpuNum": 0,
    "hideHardwareSpecs": false,
    "memoryGiB": 384,
    "name": "ml.m5.24xlarge",
    "vcpuNum": 96
   },
   {
    "_defaultOrder": 12,
    "_isFastLaunch": false,
    "category": "General purpose",
    "gpuNum": 0,
    "hideHardwareSpecs": false,
    "memoryGiB": 8,
    "name": "ml.m5d.large",
    "vcpuNum": 2
   },
   {
    "_defaultOrder": 13,
    "_isFastLaunch": false,
    "category": "General purpose",
    "gpuNum": 0,
    "hideHardwareSpecs": false,
    "memoryGiB": 16,
    "name": "ml.m5d.xlarge",
    "vcpuNum": 4
   },
   {
    "_defaultOrder": 14,
    "_isFastLaunch": false,
    "category": "General purpose",
    "gpuNum": 0,
    "hideHardwareSpecs": false,
    "memoryGiB": 32,
    "name": "ml.m5d.2xlarge",
    "vcpuNum": 8
   },
   {
    "_defaultOrder": 15,
    "_isFastLaunch": false,
    "category": "General purpose",
    "gpuNum": 0,
    "hideHardwareSpecs": false,
    "memoryGiB": 64,
    "name": "ml.m5d.4xlarge",
    "vcpuNum": 16
   },
   {
    "_defaultOrder": 16,
    "_isFastLaunch": false,
    "category": "General purpose",
    "gpuNum": 0,
    "hideHardwareSpecs": false,
    "memoryGiB": 128,
    "name": "ml.m5d.8xlarge",
    "vcpuNum": 32
   },
   {
    "_defaultOrder": 17,
    "_isFastLaunch": false,
    "category": "General purpose",
    "gpuNum": 0,
    "hideHardwareSpecs": false,
    "memoryGiB": 192,
    "name": "ml.m5d.12xlarge",
    "vcpuNum": 48
   },
   {
    "_defaultOrder": 18,
    "_isFastLaunch": false,
    "category": "General purpose",
    "gpuNum": 0,
    "hideHardwareSpecs": false,
    "memoryGiB": 256,
    "name": "ml.m5d.16xlarge",
    "vcpuNum": 64
   },
   {
    "_defaultOrder": 19,
    "_isFastLaunch": false,
    "category": "General purpose",
    "gpuNum": 0,
    "hideHardwareSpecs": false,
    "memoryGiB": 384,
    "name": "ml.m5d.24xlarge",
    "vcpuNum": 96
   },
   {
    "_defaultOrder": 20,
    "_isFastLaunch": false,
    "category": "General purpose",
    "gpuNum": 0,
    "hideHardwareSpecs": true,
    "memoryGiB": 0,
    "name": "ml.geospatial.interactive",
    "supportedImageNames": [
     "sagemaker-geospatial-v1-0"
    ],
    "vcpuNum": 0
   },
   {
    "_defaultOrder": 21,
    "_isFastLaunch": true,
    "category": "Compute optimized",
    "gpuNum": 0,
    "hideHardwareSpecs": false,
    "memoryGiB": 4,
    "name": "ml.c5.large",
    "vcpuNum": 2
   },
   {
    "_defaultOrder": 22,
    "_isFastLaunch": false,
    "category": "Compute optimized",
    "gpuNum": 0,
    "hideHardwareSpecs": false,
    "memoryGiB": 8,
    "name": "ml.c5.xlarge",
    "vcpuNum": 4
   },
   {
    "_defaultOrder": 23,
    "_isFastLaunch": false,
    "category": "Compute optimized",
    "gpuNum": 0,
    "hideHardwareSpecs": false,
    "memoryGiB": 16,
    "name": "ml.c5.2xlarge",
    "vcpuNum": 8
   },
   {
    "_defaultOrder": 24,
    "_isFastLaunch": false,
    "category": "Compute optimized",
    "gpuNum": 0,
    "hideHardwareSpecs": false,
    "memoryGiB": 32,
    "name": "ml.c5.4xlarge",
    "vcpuNum": 16
   },
   {
    "_defaultOrder": 25,
    "_isFastLaunch": false,
    "category": "Compute optimized",
    "gpuNum": 0,
    "hideHardwareSpecs": false,
    "memoryGiB": 72,
    "name": "ml.c5.9xlarge",
    "vcpuNum": 36
   },
   {
    "_defaultOrder": 26,
    "_isFastLaunch": false,
    "category": "Compute optimized",
    "gpuNum": 0,
    "hideHardwareSpecs": false,
    "memoryGiB": 96,
    "name": "ml.c5.12xlarge",
    "vcpuNum": 48
   },
   {
    "_defaultOrder": 27,
    "_isFastLaunch": false,
    "category": "Compute optimized",
    "gpuNum": 0,
    "hideHardwareSpecs": false,
    "memoryGiB": 144,
    "name": "ml.c5.18xlarge",
    "vcpuNum": 72
   },
   {
    "_defaultOrder": 28,
    "_isFastLaunch": false,
    "category": "Compute optimized",
    "gpuNum": 0,
    "hideHardwareSpecs": false,
    "memoryGiB": 192,
    "name": "ml.c5.24xlarge",
    "vcpuNum": 96
   },
   {
    "_defaultOrder": 29,
    "_isFastLaunch": true,
    "category": "Accelerated computing",
    "gpuNum": 1,
    "hideHardwareSpecs": false,
    "memoryGiB": 16,
    "name": "ml.g4dn.xlarge",
    "vcpuNum": 4
   },
   {
    "_defaultOrder": 30,
    "_isFastLaunch": false,
    "category": "Accelerated computing",
    "gpuNum": 1,
    "hideHardwareSpecs": false,
    "memoryGiB": 32,
    "name": "ml.g4dn.2xlarge",
    "vcpuNum": 8
   },
   {
    "_defaultOrder": 31,
    "_isFastLaunch": false,
    "category": "Accelerated computing",
    "gpuNum": 1,
    "hideHardwareSpecs": false,
    "memoryGiB": 64,
    "name": "ml.g4dn.4xlarge",
    "vcpuNum": 16
   },
   {
    "_defaultOrder": 32,
    "_isFastLaunch": false,
    "category": "Accelerated computing",
    "gpuNum": 1,
    "hideHardwareSpecs": false,
    "memoryGiB": 128,
    "name": "ml.g4dn.8xlarge",
    "vcpuNum": 32
   },
   {
    "_defaultOrder": 33,
    "_isFastLaunch": false,
    "category": "Accelerated computing",
    "gpuNum": 4,
    "hideHardwareSpecs": false,
    "memoryGiB": 192,
    "name": "ml.g4dn.12xlarge",
    "vcpuNum": 48
   },
   {
    "_defaultOrder": 34,
    "_isFastLaunch": false,
    "category": "Accelerated computing",
    "gpuNum": 1,
    "hideHardwareSpecs": false,
    "memoryGiB": 256,
    "name": "ml.g4dn.16xlarge",
    "vcpuNum": 64
   },
   {
    "_defaultOrder": 35,
    "_isFastLaunch": false,
    "category": "Accelerated computing",
    "gpuNum": 1,
    "hideHardwareSpecs": false,
    "memoryGiB": 61,
    "name": "ml.p3.2xlarge",
    "vcpuNum": 8
   },
   {
    "_defaultOrder": 36,
    "_isFastLaunch": false,
    "category": "Accelerated computing",
    "gpuNum": 4,
    "hideHardwareSpecs": false,
    "memoryGiB": 244,
    "name": "ml.p3.8xlarge",
    "vcpuNum": 32
   },
   {
    "_defaultOrder": 37,
    "_isFastLaunch": false,
    "category": "Accelerated computing",
    "gpuNum": 8,
    "hideHardwareSpecs": false,
    "memoryGiB": 488,
    "name": "ml.p3.16xlarge",
    "vcpuNum": 64
   },
   {
    "_defaultOrder": 38,
    "_isFastLaunch": false,
    "category": "Accelerated computing",
    "gpuNum": 8,
    "hideHardwareSpecs": false,
    "memoryGiB": 768,
    "name": "ml.p3dn.24xlarge",
    "vcpuNum": 96
   },
   {
    "_defaultOrder": 39,
    "_isFastLaunch": false,
    "category": "Memory Optimized",
    "gpuNum": 0,
    "hideHardwareSpecs": false,
    "memoryGiB": 16,
    "name": "ml.r5.large",
    "vcpuNum": 2
   },
   {
    "_defaultOrder": 40,
    "_isFastLaunch": false,
    "category": "Memory Optimized",
    "gpuNum": 0,
    "hideHardwareSpecs": false,
    "memoryGiB": 32,
    "name": "ml.r5.xlarge",
    "vcpuNum": 4
   },
   {
    "_defaultOrder": 41,
    "_isFastLaunch": false,
    "category": "Memory Optimized",
    "gpuNum": 0,
    "hideHardwareSpecs": false,
    "memoryGiB": 64,
    "name": "ml.r5.2xlarge",
    "vcpuNum": 8
   },
   {
    "_defaultOrder": 42,
    "_isFastLaunch": false,
    "category": "Memory Optimized",
    "gpuNum": 0,
    "hideHardwareSpecs": false,
    "memoryGiB": 128,
    "name": "ml.r5.4xlarge",
    "vcpuNum": 16
   },
   {
    "_defaultOrder": 43,
    "_isFastLaunch": false,
    "category": "Memory Optimized",
    "gpuNum": 0,
    "hideHardwareSpecs": false,
    "memoryGiB": 256,
    "name": "ml.r5.8xlarge",
    "vcpuNum": 32
   },
   {
    "_defaultOrder": 44,
    "_isFastLaunch": false,
    "category": "Memory Optimized",
    "gpuNum": 0,
    "hideHardwareSpecs": false,
    "memoryGiB": 384,
    "name": "ml.r5.12xlarge",
    "vcpuNum": 48
   },
   {
    "_defaultOrder": 45,
    "_isFastLaunch": false,
    "category": "Memory Optimized",
    "gpuNum": 0,
    "hideHardwareSpecs": false,
    "memoryGiB": 512,
    "name": "ml.r5.16xlarge",
    "vcpuNum": 64
   },
   {
    "_defaultOrder": 46,
    "_isFastLaunch": false,
    "category": "Memory Optimized",
    "gpuNum": 0,
    "hideHardwareSpecs": false,
    "memoryGiB": 768,
    "name": "ml.r5.24xlarge",
    "vcpuNum": 96
   },
   {
    "_defaultOrder": 47,
    "_isFastLaunch": false,
    "category": "Accelerated computing",
    "gpuNum": 1,
    "hideHardwareSpecs": false,
    "memoryGiB": 16,
    "name": "ml.g5.xlarge",
    "vcpuNum": 4
   },
   {
    "_defaultOrder": 48,
    "_isFastLaunch": false,
    "category": "Accelerated computing",
    "gpuNum": 1,
    "hideHardwareSpecs": false,
    "memoryGiB": 32,
    "name": "ml.g5.2xlarge",
    "vcpuNum": 8
   },
   {
    "_defaultOrder": 49,
    "_isFastLaunch": false,
    "category": "Accelerated computing",
    "gpuNum": 1,
    "hideHardwareSpecs": false,
    "memoryGiB": 64,
    "name": "ml.g5.4xlarge",
    "vcpuNum": 16
   },
   {
    "_defaultOrder": 50,
    "_isFastLaunch": false,
    "category": "Accelerated computing",
    "gpuNum": 1,
    "hideHardwareSpecs": false,
    "memoryGiB": 128,
    "name": "ml.g5.8xlarge",
    "vcpuNum": 32
   },
   {
    "_defaultOrder": 51,
    "_isFastLaunch": false,
    "category": "Accelerated computing",
    "gpuNum": 1,
    "hideHardwareSpecs": false,
    "memoryGiB": 256,
    "name": "ml.g5.16xlarge",
    "vcpuNum": 64
   },
   {
    "_defaultOrder": 52,
    "_isFastLaunch": false,
    "category": "Accelerated computing",
    "gpuNum": 4,
    "hideHardwareSpecs": false,
    "memoryGiB": 192,
    "name": "ml.g5.12xlarge",
    "vcpuNum": 48
   },
   {
    "_defaultOrder": 53,
    "_isFastLaunch": false,
    "category": "Accelerated computing",
    "gpuNum": 4,
    "hideHardwareSpecs": false,
    "memoryGiB": 384,
    "name": "ml.g5.24xlarge",
    "vcpuNum": 96
   },
   {
    "_defaultOrder": 54,
    "_isFastLaunch": false,
    "category": "Accelerated computing",
    "gpuNum": 8,
    "hideHardwareSpecs": false,
    "memoryGiB": 768,
    "name": "ml.g5.48xlarge",
    "vcpuNum": 192
   },
   {
    "_defaultOrder": 55,
    "_isFastLaunch": false,
    "category": "Accelerated computing",
    "gpuNum": 8,
    "hideHardwareSpecs": false,
    "memoryGiB": 1152,
    "name": "ml.p4d.24xlarge",
    "vcpuNum": 96
   },
   {
    "_defaultOrder": 56,
    "_isFastLaunch": false,
    "category": "Accelerated computing",
    "gpuNum": 8,
    "hideHardwareSpecs": false,
    "memoryGiB": 1152,
    "name": "ml.p4de.24xlarge",
    "vcpuNum": 96
   },
   {
    "_defaultOrder": 57,
    "_isFastLaunch": false,
    "category": "Accelerated computing",
    "gpuNum": 0,
    "hideHardwareSpecs": false,
    "memoryGiB": 32,
    "name": "ml.trn1.2xlarge",
    "vcpuNum": 8
   },
   {
    "_defaultOrder": 58,
    "_isFastLaunch": false,
    "category": "Accelerated computing",
    "gpuNum": 0,
    "hideHardwareSpecs": false,
    "memoryGiB": 512,
    "name": "ml.trn1.32xlarge",
    "vcpuNum": 128
   },
   {
    "_defaultOrder": 59,
    "_isFastLaunch": false,
    "category": "Accelerated computing",
    "gpuNum": 0,
    "hideHardwareSpecs": false,
    "memoryGiB": 512,
    "name": "ml.trn1n.32xlarge",
    "vcpuNum": 128
   }
  ],
  "instance_type": "ml.t3.medium",
  "kernelspec": {
   "display_name": "Python 3 (Data Science 3.0)",
   "language": "python",
   "name": "python3__SAGEMAKER_INTERNAL__arn:aws:sagemaker:us-east-1:081325390199:image/sagemaker-data-science-310-v1"
  },
  "language_info": {
   "codemirror_mode": {
    "name": "ipython",
    "version": 3
   },
   "file_extension": ".py",
   "mimetype": "text/x-python",
   "name": "python",
   "nbconvert_exporter": "python",
   "pygments_lexer": "ipython3",
   "version": "3.10.6"
  }
 },
 "nbformat": 4,
 "nbformat_minor": 5
}
